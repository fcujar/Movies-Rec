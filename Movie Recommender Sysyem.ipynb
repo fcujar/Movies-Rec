{
 "cells": [
  {
   "cell_type": "markdown",
   "metadata": {},
   "source": [
    "# Defining the Statement of Problem"
   ]
  },
  {
   "cell_type": "markdown",
   "metadata": {},
   "source": [
    "<li> This notebook implements a notebook recommender system\n",
    "<li> Recommender systems are used to suggest movies or songs to users based on their interest or usage history\n",
    "<li> In this example we will use User and Item-bases Collaborative Filter\n",
    "<li> Dataset MovieLens: <a href=\"https://grouplens.org/datasets/movielens/100k/\">https://grouplens.org/datasets/movielens/100k/</a>\n",
    "<li> Photo Credit: <a href=\"https://pxhere.com/en/photo/1588369\">https://pxhere.com/en/photo/1588369</a>\n"
   ]
  },
  {
   "cell_type": "code",
   "execution_count": null,
   "metadata": {},
   "outputs": [],
   "source": []
  }
 ],
 "metadata": {
  "kernelspec": {
   "display_name": "Python 3",
   "language": "python",
   "name": "python3"
  },
  "language_info": {
   "codemirror_mode": {
    "name": "ipython",
    "version": 3
   },
   "file_extension": ".py",
   "mimetype": "text/x-python",
   "name": "python",
   "nbconvert_exporter": "python",
   "pygments_lexer": "ipython3",
   "version": "3.7.4"
  }
 },
 "nbformat": 4,
 "nbformat_minor": 2
}
